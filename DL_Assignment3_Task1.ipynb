{
  "nbformat": 4,
  "nbformat_minor": 0,
  "metadata": {
    "colab": {
      "name": "DL_Assignment3_Task1",
      "provenance": [],
      "collapsed_sections": []
    },
    "kernelspec": {
      "name": "python3",
      "display_name": "Python 3"
    },
    "accelerator": "GPU"
  },
  "cells": [
    {
      "cell_type": "code",
      "metadata": {
        "id": "VbkLzdG9M9SU",
        "colab_type": "code",
        "colab": {}
      },
      "source": [
        "import torch\n",
        "import torch.nn as nn\n",
        "import torch.nn.functional as F\n",
        "from torch.utils.data import Dataset, DataLoader\n",
        "import numpy as np\n",
        "import torchvision\n",
        "import torchvision.transforms as transforms\n",
        "\n",
        "import matplotlib.pyplot as plt\n",
        "%matplotlib inline"
      ],
      "execution_count": 0,
      "outputs": []
    },
    {
      "cell_type": "markdown",
      "metadata": {
        "id": "y-EtvM4GQL86",
        "colab_type": "text"
      },
      "source": [
        "Dataset can be downloaded from \n",
        "\n",
        "https://drive.google.com/drive/folders/1c-QdjiET4uQOgtvwGaL6uCzo3MHXG4PK"
      ]
    },
    {
      "cell_type": "code",
      "metadata": {
        "id": "c9wVw2N5Oo8j",
        "colab_type": "code",
        "colab": {}
      },
      "source": [
        "import tarfile\n",
        "my_tar = tarfile.open('drive/My Drive/DL_Assignment_2/face.test.tar.gz')\n",
        "my_tar.extractall('./') # specify which folder to extract to\n",
        "my_tar = tarfile.open('drive/My Drive/DL_Assignment_2/face.train.tar.gz')\n",
        "my_tar.extractall('./') # specify which folder to extract to\n",
        "my_tar.close()"
      ],
      "execution_count": 0,
      "outputs": []
    },
    {
      "cell_type": "code",
      "metadata": {
        "id": "1LbsyN6ROCQa",
        "colab_type": "code",
        "colab": {}
      },
      "source": [
        "def load_dataset(data_path):\n",
        "    #data_path = 'data/train/'\n",
        "    \n",
        "    train_dataset = torchvision.datasets.ImageFolder(\n",
        "        root=data_path,\n",
        "        transform=transforms.Compose([transforms.ToTensor(),\n",
        "                        transforms.Normalize(mean = (0.5, 0.5, 0.5), std = (0.5, 0.5, 0.5)),]),\n",
        "    )\n",
        "    train_loader = torch.utils.data.DataLoader(\n",
        "        train_dataset,\n",
        "        batch_size=128,\n",
        "        num_workers=0,\n",
        "        shuffle=True\n",
        "    )\n",
        "    return train_loader"
      ],
      "execution_count": 0,
      "outputs": []
    },
    {
      "cell_type": "code",
      "metadata": {
        "id": "sfyWruQfOAPE",
        "colab_type": "code",
        "colab": {}
      },
      "source": [
        "class MLP(nn.Module):\n",
        "    def __init__(self):\n",
        "        super(MLP, self).__init__()\n",
        "        self.layers = nn.Sequential(\n",
        "            nn.Linear(1083, 32),\n",
        "            nn.ReLU(),\n",
        "            nn.Dropout(p=0.2),\n",
        "            nn.Linear(32, 64),\n",
        "            nn.ReLU(),\n",
        "            nn.Dropout(p=0.2),\n",
        "            nn.Linear(64, 128),\n",
        "            nn.ReLU(),\n",
        "            nn.Dropout(p=0.2),\n",
        "            nn.Linear(128, 256),\n",
        "            nn.ReLU(),\n",
        "            nn.Dropout(p=0.2),\n",
        "            nn.Linear(256, 2)\n",
        "        )\n",
        "        \n",
        "    def forward(self, x):\n",
        "        x = x.view(x.size(0), -1)\n",
        "        x = self.layers(x)\n",
        "        return x"
      ],
      "execution_count": 0,
      "outputs": []
    },
    {
      "cell_type": "code",
      "metadata": {
        "id": "-WL_L3ua4bW1",
        "colab_type": "code",
        "colab": {}
      },
      "source": [
        "import torch.nn.functional as F\n",
        "\n",
        "class Net(nn.Module):\n",
        "    def __init__(self):\n",
        "        super().__init__()\n",
        "        self.conv1 = nn.Conv2d(3, 16, kernel_size=3, padding=1)\n",
        "        self.conv2 = nn.Conv2d(16, 8, kernel_size=3, padding=1)\n",
        "        self.fc1 = nn.Linear(128, 32)\n",
        "        self.conv1_dropout = nn.Dropout2d(p=0.2)\n",
        "        self.fc2 = nn.Linear(32, 2)\n",
        "        \n",
        "    def forward(self, x):\n",
        "        out = F.max_pool2d(torch.tanh(self.conv1(x)), 2)\n",
        "        out = F.max_pool2d(torch.tanh(self.conv2(out)), 2)\n",
        "        out = out.view(out.size(0), -1)\n",
        "        out = torch.tanh(self.fc1(out))\n",
        "        out = self.conv1_dropout(out)\n",
        "        out = self.fc2(out)\n",
        "        return out"
      ],
      "execution_count": 0,
      "outputs": []
    },
    {
      "cell_type": "code",
      "metadata": {
        "id": "GB2vZVqARd25",
        "colab_type": "code",
        "outputId": "78ff1411-d9ff-4f95-cc96-55016b68944d",
        "colab": {
          "base_uri": "https://localhost:8080/",
          "height": 136
        }
      },
      "source": [
        "model = Net()\n",
        "print(model)"
      ],
      "execution_count": 6,
      "outputs": [
        {
          "output_type": "stream",
          "text": [
            "Net(\n",
            "  (conv1): Conv2d(3, 16, kernel_size=(3, 3), stride=(1, 1), padding=(1, 1))\n",
            "  (conv2): Conv2d(16, 8, kernel_size=(3, 3), stride=(1, 1), padding=(1, 1))\n",
            "  (fc1): Linear(in_features=128, out_features=32, bias=True)\n",
            "  (conv1_dropout): Dropout2d(p=0.2, inplace=False)\n",
            "  (fc2): Linear(in_features=32, out_features=2, bias=True)\n",
            ")\n"
          ],
          "name": "stdout"
        }
      ]
    },
    {
      "cell_type": "code",
      "metadata": {
        "id": "F5oa3zWJRpQ5",
        "colab_type": "code",
        "outputId": "518a76b1-44e2-43ac-eae8-cea15216ae86",
        "colab": {
          "base_uri": "https://localhost:8080/",
          "height": 867
        }
      },
      "source": [
        "optimizer = torch.optim.Adam(model.parameters(), lr=0.001)\n",
        "loss_fn = nn.CrossEntropyLoss()\n",
        "\n",
        "mean_train_losses = []\n",
        "mean_valid_losses = []\n",
        "valid_acc_list = []\n",
        "epochs = 50\n",
        "\n",
        "for epoch in range(epochs):\n",
        "    model.train()\n",
        "    \n",
        "    train_losses = []\n",
        "    valid_losses = []\n",
        "    for i, (images, labels) in enumerate(load_dataset(\"./train\")):\n",
        "        correct_train = 0\n",
        "        total_train = 0\n",
        "        optimizer.zero_grad()\n",
        "        \n",
        "        outputs = model(images)\n",
        "        loss = loss_fn(outputs, labels)\n",
        "        loss.backward()\n",
        "        optimizer.step()\n",
        "        \n",
        "        train_losses.append(loss.item())\n",
        "\n",
        "            \n",
        "    model.eval()\n",
        "    correct = 0\n",
        "    total = 0\n",
        "    with torch.no_grad():\n",
        "        for i, (images, labels) in enumerate(load_dataset(\"./test\")):\n",
        "            outputs = model(images)\n",
        "            loss = loss_fn(outputs, labels)\n",
        "            \n",
        "            valid_losses.append(loss.item())\n",
        "            \n",
        "            _, predicted = torch.max(outputs.data, 1)\n",
        "            correct += (predicted == labels).sum().item()\n",
        "            total += labels.size(0)\n",
        "            \n",
        "    mean_train_losses.append(np.mean(train_losses))\n",
        "    mean_valid_losses.append(np.mean(valid_losses))\n",
        "    \n",
        "    accuracy = 100*correct/total\n",
        "    valid_acc_list.append(accuracy)\n",
        "    print('epoch : {}, train loss : {:.4f}, valid loss : {:.4f}, valid acc : {:.2f}%'\\\n",
        "         .format(epoch+1, np.mean(train_losses), np.mean(valid_losses), accuracy))"
      ],
      "execution_count": 7,
      "outputs": [
        {
          "output_type": "stream",
          "text": [
            "epoch : 1, train loss : 0.5400, valid loss : 0.3297, valid acc : 90.05%\n",
            "epoch : 2, train loss : 0.2638, valid loss : 0.2458, valid acc : 91.25%\n",
            "epoch : 3, train loss : 0.1919, valid loss : 0.1541, valid acc : 94.47%\n",
            "epoch : 4, train loss : 0.1481, valid loss : 0.1444, valid acc : 94.64%\n",
            "epoch : 5, train loss : 0.1205, valid loss : 0.1377, valid acc : 95.13%\n",
            "epoch : 6, train loss : 0.0926, valid loss : 0.1360, valid acc : 95.25%\n",
            "epoch : 7, train loss : 0.0737, valid loss : 0.1065, valid acc : 96.27%\n",
            "epoch : 8, train loss : 0.0574, valid loss : 0.1065, valid acc : 96.23%\n",
            "epoch : 9, train loss : 0.0500, valid loss : 0.0840, valid acc : 97.35%\n",
            "epoch : 10, train loss : 0.0390, valid loss : 0.0812, valid acc : 97.65%\n",
            "epoch : 11, train loss : 0.0311, valid loss : 0.0801, valid acc : 97.56%\n",
            "epoch : 12, train loss : 0.0258, valid loss : 0.0785, valid acc : 97.77%\n",
            "epoch : 13, train loss : 0.0215, valid loss : 0.0828, valid acc : 97.56%\n",
            "epoch : 14, train loss : 0.0186, valid loss : 0.0785, valid acc : 97.87%\n",
            "epoch : 15, train loss : 0.0161, valid loss : 0.0809, valid acc : 98.06%\n",
            "epoch : 16, train loss : 0.0135, valid loss : 0.0772, valid acc : 98.14%\n",
            "epoch : 17, train loss : 0.0110, valid loss : 0.0878, valid acc : 97.54%\n",
            "epoch : 18, train loss : 0.0101, valid loss : 0.0904, valid acc : 98.12%\n",
            "epoch : 19, train loss : 0.0096, valid loss : 0.0870, valid acc : 97.78%\n",
            "epoch : 20, train loss : 0.0072, valid loss : 0.0875, valid acc : 97.92%\n",
            "epoch : 21, train loss : 0.0055, valid loss : 0.0923, valid acc : 98.10%\n",
            "epoch : 22, train loss : 0.0079, valid loss : 0.1013, valid acc : 97.91%\n",
            "epoch : 23, train loss : 0.0058, valid loss : 0.0948, valid acc : 98.09%\n",
            "epoch : 24, train loss : 0.0047, valid loss : 0.0953, valid acc : 97.78%\n",
            "epoch : 25, train loss : 0.0046, valid loss : 0.1229, valid acc : 97.26%\n",
            "epoch : 26, train loss : 0.0037, valid loss : 0.1021, valid acc : 97.98%\n",
            "epoch : 27, train loss : 0.0027, valid loss : 0.1019, valid acc : 98.03%\n",
            "epoch : 28, train loss : 0.0024, valid loss : 0.1066, valid acc : 98.07%\n",
            "epoch : 29, train loss : 0.0032, valid loss : 0.1128, valid acc : 97.77%\n",
            "epoch : 30, train loss : 0.0025, valid loss : 0.0936, valid acc : 98.14%\n",
            "epoch : 31, train loss : 0.0017, valid loss : 0.1081, valid acc : 97.93%\n",
            "epoch : 32, train loss : 0.0045, valid loss : 0.1263, valid acc : 98.07%\n",
            "epoch : 33, train loss : 0.0029, valid loss : 0.1100, valid acc : 98.16%\n",
            "epoch : 34, train loss : 0.0018, valid loss : 0.1126, valid acc : 97.96%\n",
            "epoch : 35, train loss : 0.0016, valid loss : 0.1007, valid acc : 98.15%\n",
            "epoch : 36, train loss : 0.0009, valid loss : 0.1059, valid acc : 98.12%\n",
            "epoch : 37, train loss : 0.0008, valid loss : 0.1201, valid acc : 98.09%\n",
            "epoch : 38, train loss : 0.0007, valid loss : 0.1155, valid acc : 98.11%\n",
            "epoch : 39, train loss : 0.0006, valid loss : 0.1135, valid acc : 98.10%\n",
            "epoch : 40, train loss : 0.0006, valid loss : 0.1147, valid acc : 97.97%\n",
            "epoch : 41, train loss : 0.0005, valid loss : 0.1167, valid acc : 98.10%\n",
            "epoch : 42, train loss : 0.0005, valid loss : 0.1198, valid acc : 98.08%\n",
            "epoch : 43, train loss : 0.0005, valid loss : 0.1208, valid acc : 97.94%\n",
            "epoch : 44, train loss : 0.0004, valid loss : 0.1298, valid acc : 98.04%\n",
            "epoch : 45, train loss : 0.0004, valid loss : 0.1249, valid acc : 98.01%\n",
            "epoch : 46, train loss : 0.0005, valid loss : 0.1374, valid acc : 97.97%\n",
            "epoch : 47, train loss : 0.0004, valid loss : 0.1229, valid acc : 98.01%\n",
            "epoch : 48, train loss : 0.0004, valid loss : 0.1292, valid acc : 98.05%\n",
            "epoch : 49, train loss : 0.0003, valid loss : 0.1340, valid acc : 98.09%\n",
            "epoch : 50, train loss : 0.0003, valid loss : 0.1316, valid acc : 98.08%\n"
          ],
          "name": "stdout"
        }
      ]
    },
    {
      "cell_type": "code",
      "metadata": {
        "id": "6aaLcjkiMYl5",
        "colab_type": "code",
        "outputId": "8da52dd1-496e-4440-858d-f7a1c90ba27f",
        "colab": {
          "base_uri": "https://localhost:8080/",
          "height": 337
        }
      },
      "source": [
        "fig, (ax1, ax2) = plt.subplots(nrows=1, ncols=2, figsize=(15, 5))\n",
        "ax1.plot(mean_train_losses, label='train')\n",
        "ax1.plot(mean_valid_losses, label='valid')\n",
        "lines, labels = ax1.get_legend_handles_labels()\n",
        "ax1.legend(lines, labels, loc='best')\n",
        "\n",
        "ax2.plot(valid_acc_list, label='valid acc')\n",
        "ax2.legend()"
      ],
      "execution_count": 8,
      "outputs": [
        {
          "output_type": "execute_result",
          "data": {
            "text/plain": [
              "<matplotlib.legend.Legend at 0x7f36f6ce0780>"
            ]
          },
          "metadata": {
            "tags": []
          },
          "execution_count": 8
        },
        {
          "output_type": "display_data",
          "data": {
            "image/png": "[encoded data removed]",
            "text/plain": [
              "<Figure size 1080x360 with 2 Axes>"
            ]
          },
          "metadata": {
            "tags": [],
            "needs_background": "light"
          }
        }
      ]
    },
    {
      "cell_type": "code",
      "metadata": {
        "id": "bK7_Ix7oX1ix",
        "colab_type": "code",
        "outputId": "5c312bd1-0213-4417-b995-e5dd766ea100",
        "colab": {
          "base_uri": "https://localhost:8080/",
          "height": 34
        }
      },
      "source": [
        "model.eval()\n",
        "correct = 0\n",
        "total = 0\n",
        "with torch.no_grad():\n",
        "  for i, (images, labels) in enumerate(load_dataset(\"./test\")):\n",
        "    outputs = model(images)\n",
        "    loss = loss_fn(outputs, labels)\n",
        "    valid_losses.append(loss.item())\n",
        "            \n",
        "    _, predicted = torch.max(outputs.data, 1)\n",
        "    correct += (predicted == labels).sum().item()\n",
        "    total += labels.size(0)\n",
        "            \n",
        "accuracy = 100*correct/total\n",
        "print (accuracy)"
      ],
      "execution_count": 9,
      "outputs": [
        {
          "output_type": "stream",
          "text": [
            "98.07860262008734\n"
          ],
          "name": "stdout"
        }
      ]
    }
  ]
}